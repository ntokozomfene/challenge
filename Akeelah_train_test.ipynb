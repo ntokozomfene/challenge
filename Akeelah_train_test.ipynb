{
 "cells": [
  {
   "cell_type": "code",
   "execution_count": 1,
   "metadata": {},
   "outputs": [],
   "source": [
    "import numpy as np\n",
    "import pandas as pd"
   ]
  },
  {
   "cell_type": "code",
   "execution_count": 2,
   "metadata": {},
   "outputs": [
    {
     "name": "stderr",
     "output_type": "stream",
     "text": [
      "C:\\Users\\Mr.mfene\\AppData\\Local\\Continuum\\anaconda3\\lib\\site-packages\\IPython\\core\\interactiveshell.py:3057: DtypeWarning: Columns (15,16,18,19) have mixed types. Specify dtype option on import or set low_memory=False.\n",
      "  interactivity=interactivity, compiler=compiler, result=result)\n"
     ]
    }
   ],
   "source": [
    "train_cust =pd.read_csv('train_customers.csv',parse_dates=['created_at','updated_at'])\n",
    "test_cust =pd.read_csv('test_customers.csv',parse_dates=['created_at','updated_at'])\n",
    "train_loc =pd.read_csv('train_locations.csv')\n",
    "test_loc =pd.read_csv('test_locations.csv')\n",
    "vendors =pd.read_csv('vendors.csv',parse_dates=['created_at','updated_at'])\n",
    "orders =pd.read_csv('orders.csv',parse_dates=['created_at','delivery_date'])\n",
    "submission =pd.read_csv('SampleSubmission.csv')"
   ]
  },
  {
   "cell_type": "code",
   "execution_count": 3,
   "metadata": {},
   "outputs": [],
   "source": [
    "train_cust= train_cust.rename({'akeed_customer_id': 'customer_id'}, axis=1)\n",
    "test_cust= test_cust.rename({'akeed_customer_id': 'customer_id'}, axis=1)"
   ]
  },
  {
   "cell_type": "code",
   "execution_count": 4,
   "metadata": {},
   "outputs": [
    {
     "data": {
      "text/html": [
       "<div>\n",
       "<style scoped>\n",
       "    .dataframe tbody tr th:only-of-type {\n",
       "        vertical-align: middle;\n",
       "    }\n",
       "\n",
       "    .dataframe tbody tr th {\n",
       "        vertical-align: top;\n",
       "    }\n",
       "\n",
       "    .dataframe thead th {\n",
       "        text-align: right;\n",
       "    }\n",
       "</style>\n",
       "<table border=\"1\" class=\"dataframe\">\n",
       "  <thead>\n",
       "    <tr style=\"text-align: right;\">\n",
       "      <th></th>\n",
       "      <th>customer_id</th>\n",
       "      <th>location_number</th>\n",
       "      <th>location_type</th>\n",
       "      <th>latitude</th>\n",
       "      <th>longitude</th>\n",
       "    </tr>\n",
       "  </thead>\n",
       "  <tbody>\n",
       "    <tr>\n",
       "      <th>0</th>\n",
       "      <td>02SFNJH</td>\n",
       "      <td>0</td>\n",
       "      <td>NaN</td>\n",
       "      <td>1.682392</td>\n",
       "      <td>-78.789737</td>\n",
       "    </tr>\n",
       "    <tr>\n",
       "      <th>1</th>\n",
       "      <td>02SFNJH</td>\n",
       "      <td>1</td>\n",
       "      <td>NaN</td>\n",
       "      <td>1.679137</td>\n",
       "      <td>0.766823</td>\n",
       "    </tr>\n",
       "  </tbody>\n",
       "</table>\n",
       "</div>"
      ],
      "text/plain": [
       "  customer_id  location_number location_type  latitude  longitude\n",
       "0     02SFNJH                0           NaN  1.682392 -78.789737\n",
       "1     02SFNJH                1           NaN  1.679137   0.766823"
      ]
     },
     "execution_count": 4,
     "metadata": {},
     "output_type": "execute_result"
    }
   ],
   "source": [
    "train_loc.head(2)"
   ]
  },
  {
   "cell_type": "code",
   "execution_count": 5,
   "metadata": {},
   "outputs": [
    {
     "data": {
      "text/html": [
       "<div>\n",
       "<style scoped>\n",
       "    .dataframe tbody tr th:only-of-type {\n",
       "        vertical-align: middle;\n",
       "    }\n",
       "\n",
       "    .dataframe tbody tr th {\n",
       "        vertical-align: top;\n",
       "    }\n",
       "\n",
       "    .dataframe thead th {\n",
       "        text-align: right;\n",
       "    }\n",
       "</style>\n",
       "<table border=\"1\" class=\"dataframe\">\n",
       "  <thead>\n",
       "    <tr style=\"text-align: right;\">\n",
       "      <th></th>\n",
       "      <th>customer_id</th>\n",
       "      <th>gender</th>\n",
       "      <th>dob</th>\n",
       "      <th>status</th>\n",
       "      <th>verified</th>\n",
       "      <th>language</th>\n",
       "      <th>created_at</th>\n",
       "      <th>updated_at</th>\n",
       "    </tr>\n",
       "  </thead>\n",
       "  <tbody>\n",
       "    <tr>\n",
       "      <th>0</th>\n",
       "      <td>TCHWPBT</td>\n",
       "      <td>Male</td>\n",
       "      <td>NaN</td>\n",
       "      <td>1</td>\n",
       "      <td>1</td>\n",
       "      <td>EN</td>\n",
       "      <td>2018-02-07 19:16:23</td>\n",
       "      <td>2018-02-07 19:16:23</td>\n",
       "    </tr>\n",
       "    <tr>\n",
       "      <th>1</th>\n",
       "      <td>ZGFSYCZ</td>\n",
       "      <td>Male</td>\n",
       "      <td>NaN</td>\n",
       "      <td>1</td>\n",
       "      <td>1</td>\n",
       "      <td>EN</td>\n",
       "      <td>2018-02-09 12:04:42</td>\n",
       "      <td>2018-02-09 12:04:41</td>\n",
       "    </tr>\n",
       "    <tr>\n",
       "      <th>2</th>\n",
       "      <td>S2ALZFL</td>\n",
       "      <td>Male</td>\n",
       "      <td>NaN</td>\n",
       "      <td>0</td>\n",
       "      <td>1</td>\n",
       "      <td>EN</td>\n",
       "      <td>2018-03-14 18:31:43</td>\n",
       "      <td>2018-03-14 18:31:42</td>\n",
       "    </tr>\n",
       "    <tr>\n",
       "      <th>3</th>\n",
       "      <td>952DBJQ</td>\n",
       "      <td>Male</td>\n",
       "      <td>NaN</td>\n",
       "      <td>1</td>\n",
       "      <td>1</td>\n",
       "      <td>EN</td>\n",
       "      <td>2018-03-15 19:47:07</td>\n",
       "      <td>2018-03-15 19:47:07</td>\n",
       "    </tr>\n",
       "    <tr>\n",
       "      <th>4</th>\n",
       "      <td>1IX6FXS</td>\n",
       "      <td>Male</td>\n",
       "      <td>NaN</td>\n",
       "      <td>1</td>\n",
       "      <td>1</td>\n",
       "      <td>EN</td>\n",
       "      <td>2018-03-15 19:57:01</td>\n",
       "      <td>2018-03-15 19:57:01</td>\n",
       "    </tr>\n",
       "  </tbody>\n",
       "</table>\n",
       "</div>"
      ],
      "text/plain": [
       "  customer_id gender  dob  status  verified language          created_at  \\\n",
       "0     TCHWPBT   Male  NaN       1         1       EN 2018-02-07 19:16:23   \n",
       "1     ZGFSYCZ   Male  NaN       1         1       EN 2018-02-09 12:04:42   \n",
       "2     S2ALZFL   Male  NaN       0         1       EN 2018-03-14 18:31:43   \n",
       "3     952DBJQ   Male  NaN       1         1       EN 2018-03-15 19:47:07   \n",
       "4     1IX6FXS   Male  NaN       1         1       EN 2018-03-15 19:57:01   \n",
       "\n",
       "           updated_at  \n",
       "0 2018-02-07 19:16:23  \n",
       "1 2018-02-09 12:04:41  \n",
       "2 2018-03-14 18:31:42  \n",
       "3 2018-03-15 19:47:07  \n",
       "4 2018-03-15 19:57:01  "
      ]
     },
     "execution_count": 5,
     "metadata": {},
     "output_type": "execute_result"
    }
   ],
   "source": [
    "train_cust.head()"
   ]
  },
  {
   "cell_type": "code",
   "execution_count": 6,
   "metadata": {},
   "outputs": [
    {
     "data": {
      "text/html": [
       "<div>\n",
       "<style scoped>\n",
       "    .dataframe tbody tr th:only-of-type {\n",
       "        vertical-align: middle;\n",
       "    }\n",
       "\n",
       "    .dataframe tbody tr th {\n",
       "        vertical-align: top;\n",
       "    }\n",
       "\n",
       "    .dataframe thead th {\n",
       "        text-align: right;\n",
       "    }\n",
       "</style>\n",
       "<table border=\"1\" class=\"dataframe\">\n",
       "  <thead>\n",
       "    <tr style=\"text-align: right;\">\n",
       "      <th></th>\n",
       "      <th>customer_id</th>\n",
       "      <th>created_at</th>\n",
       "      <th>updated_at</th>\n",
       "    </tr>\n",
       "  </thead>\n",
       "  <tbody>\n",
       "    <tr>\n",
       "      <th>0</th>\n",
       "      <td>TCHWPBT</td>\n",
       "      <td>2018-02-07 19:16:23</td>\n",
       "      <td>2018-02-07 19:16:23</td>\n",
       "    </tr>\n",
       "    <tr>\n",
       "      <th>1</th>\n",
       "      <td>ZGFSYCZ</td>\n",
       "      <td>2018-02-09 12:04:42</td>\n",
       "      <td>2018-02-09 12:04:41</td>\n",
       "    </tr>\n",
       "    <tr>\n",
       "      <th>2</th>\n",
       "      <td>S2ALZFL</td>\n",
       "      <td>2018-03-14 18:31:43</td>\n",
       "      <td>2018-03-14 18:31:42</td>\n",
       "    </tr>\n",
       "    <tr>\n",
       "      <th>3</th>\n",
       "      <td>952DBJQ</td>\n",
       "      <td>2018-03-15 19:47:07</td>\n",
       "      <td>2018-03-15 19:47:07</td>\n",
       "    </tr>\n",
       "    <tr>\n",
       "      <th>4</th>\n",
       "      <td>1IX6FXS</td>\n",
       "      <td>2018-03-15 19:57:01</td>\n",
       "      <td>2018-03-15 19:57:01</td>\n",
       "    </tr>\n",
       "  </tbody>\n",
       "</table>\n",
       "</div>"
      ],
      "text/plain": [
       "  customer_id          created_at          updated_at\n",
       "0     TCHWPBT 2018-02-07 19:16:23 2018-02-07 19:16:23\n",
       "1     ZGFSYCZ 2018-02-09 12:04:42 2018-02-09 12:04:41\n",
       "2     S2ALZFL 2018-03-14 18:31:43 2018-03-14 18:31:42\n",
       "3     952DBJQ 2018-03-15 19:47:07 2018-03-15 19:47:07\n",
       "4     1IX6FXS 2018-03-15 19:57:01 2018-03-15 19:57:01"
      ]
     },
     "execution_count": 6,
     "metadata": {},
     "output_type": "execute_result"
    }
   ],
   "source": [
    "test_cust=test_cust[['customer_id','created_at','updated_at']]\n",
    "train_cust=train_cust[['customer_id','created_at','updated_at']];train_cust.head()"
   ]
  },
  {
   "cell_type": "code",
   "execution_count": 7,
   "metadata": {},
   "outputs": [
    {
     "name": "stdout",
     "output_type": "stream",
     "text": [
      "(34674, 3) (9768, 3) (1672000, 2) (100, 59)\n"
     ]
    }
   ],
   "source": [
    "print(train_cust.shape,test_cust.shape,submission.shape, vendors.shape)"
   ]
  },
  {
   "cell_type": "markdown",
   "metadata": {},
   "source": [
    "### DROP DUPLICATES  CUSTOMERS"
   ]
  },
  {
   "cell_type": "code",
   "execution_count": 8,
   "metadata": {},
   "outputs": [],
   "source": [
    "test_cust = test_cust.drop_duplicates(subset='customer_id', keep=\"first\")\n",
    "train_cust = train_cust.drop_duplicates(subset='customer_id', keep=\"first\")"
   ]
  },
  {
   "cell_type": "code",
   "execution_count": 9,
   "metadata": {},
   "outputs": [
    {
     "data": {
      "text/plain": [
       "(9753, 3)"
      ]
     },
     "execution_count": 9,
     "metadata": {},
     "output_type": "execute_result"
    }
   ],
   "source": [
    "test_cust.shape"
   ]
  },
  {
   "cell_type": "markdown",
   "metadata": {},
   "source": [
    "### MERGE"
   ]
  },
  {
   "cell_type": "code",
   "execution_count": 10,
   "metadata": {},
   "outputs": [],
   "source": [
    "train =pd.merge(train_cust, train_loc, on ='customer_id', how ='left')\n",
    "test =pd.merge(test_cust, test_loc, on ='customer_id', how ='left')"
   ]
  },
  {
   "cell_type": "code",
   "execution_count": 11,
   "metadata": {},
   "outputs": [
    {
     "data": {
      "text/html": [
       "<div>\n",
       "<style scoped>\n",
       "    .dataframe tbody tr th:only-of-type {\n",
       "        vertical-align: middle;\n",
       "    }\n",
       "\n",
       "    .dataframe tbody tr th {\n",
       "        vertical-align: top;\n",
       "    }\n",
       "\n",
       "    .dataframe thead th {\n",
       "        text-align: right;\n",
       "    }\n",
       "</style>\n",
       "<table border=\"1\" class=\"dataframe\">\n",
       "  <thead>\n",
       "    <tr style=\"text-align: right;\">\n",
       "      <th></th>\n",
       "      <th>customer_id</th>\n",
       "      <th>created_at</th>\n",
       "      <th>updated_at</th>\n",
       "      <th>location_number</th>\n",
       "      <th>location_type</th>\n",
       "      <th>latitude</th>\n",
       "      <th>longitude</th>\n",
       "    </tr>\n",
       "  </thead>\n",
       "  <tbody>\n",
       "    <tr>\n",
       "      <th>0</th>\n",
       "      <td>ICE2DJP</td>\n",
       "      <td>2018-02-07 16:45:36</td>\n",
       "      <td>2018-02-07 16:45:36</td>\n",
       "      <td>0</td>\n",
       "      <td>NaN</td>\n",
       "      <td>-96.407538</td>\n",
       "      <td>-67.197291</td>\n",
       "    </tr>\n",
       "    <tr>\n",
       "      <th>1</th>\n",
       "      <td>ICE2DJP</td>\n",
       "      <td>2018-02-07 16:45:36</td>\n",
       "      <td>2018-02-07 16:45:36</td>\n",
       "      <td>1</td>\n",
       "      <td>NaN</td>\n",
       "      <td>0.038654</td>\n",
       "      <td>-78.595477</td>\n",
       "    </tr>\n",
       "  </tbody>\n",
       "</table>\n",
       "</div>"
      ],
      "text/plain": [
       "  customer_id          created_at          updated_at  location_number  \\\n",
       "0     ICE2DJP 2018-02-07 16:45:36 2018-02-07 16:45:36                0   \n",
       "1     ICE2DJP 2018-02-07 16:45:36 2018-02-07 16:45:36                1   \n",
       "\n",
       "  location_type   latitude  longitude  \n",
       "0           NaN -96.407538 -67.197291  \n",
       "1           NaN   0.038654 -78.595477  "
      ]
     },
     "execution_count": 11,
     "metadata": {},
     "output_type": "execute_result"
    }
   ],
   "source": [
    "test.head(2)"
   ]
  },
  {
   "cell_type": "code",
   "execution_count": 12,
   "metadata": {},
   "outputs": [
    {
     "data": {
      "text/plain": [
       "(16317, 7)"
      ]
     },
     "execution_count": 12,
     "metadata": {},
     "output_type": "execute_result"
    }
   ],
   "source": [
    "test.shape"
   ]
  },
  {
   "cell_type": "code",
   "execution_count": 13,
   "metadata": {},
   "outputs": [
    {
     "data": {
      "text/html": [
       "<div>\n",
       "<style scoped>\n",
       "    .dataframe tbody tr th:only-of-type {\n",
       "        vertical-align: middle;\n",
       "    }\n",
       "\n",
       "    .dataframe tbody tr th {\n",
       "        vertical-align: top;\n",
       "    }\n",
       "\n",
       "    .dataframe thead th {\n",
       "        text-align: right;\n",
       "    }\n",
       "</style>\n",
       "<table border=\"1\" class=\"dataframe\">\n",
       "  <thead>\n",
       "    <tr style=\"text-align: right;\">\n",
       "      <th></th>\n",
       "      <th>id</th>\n",
       "      <th>authentication_id</th>\n",
       "      <th>latitude</th>\n",
       "      <th>longitude</th>\n",
       "      <th>vendor_category_en</th>\n",
       "      <th>vendor_category_id</th>\n",
       "      <th>delivery_charge</th>\n",
       "      <th>serving_distance</th>\n",
       "      <th>is_open</th>\n",
       "      <th>OpeningTime</th>\n",
       "      <th>...</th>\n",
       "      <th>open_close_flags</th>\n",
       "      <th>vendor_tag</th>\n",
       "      <th>vendor_tag_name</th>\n",
       "      <th>one_click_vendor</th>\n",
       "      <th>country_id</th>\n",
       "      <th>city_id</th>\n",
       "      <th>created_at</th>\n",
       "      <th>updated_at</th>\n",
       "      <th>device_type</th>\n",
       "      <th>display_orders</th>\n",
       "    </tr>\n",
       "  </thead>\n",
       "  <tbody>\n",
       "    <tr>\n",
       "      <th>0</th>\n",
       "      <td>4</td>\n",
       "      <td>118597.0</td>\n",
       "      <td>-0.588596</td>\n",
       "      <td>0.754434</td>\n",
       "      <td>Restaurants</td>\n",
       "      <td>2.0</td>\n",
       "      <td>0.0</td>\n",
       "      <td>6.0</td>\n",
       "      <td>1.0</td>\n",
       "      <td>11:00AM-11:30PM</td>\n",
       "      <td>...</td>\n",
       "      <td>1.0</td>\n",
       "      <td>2,4,5,8,91,22,12,24,16,23</td>\n",
       "      <td>Arabic,Breakfast,Burgers,Desserts,Free Deliver...</td>\n",
       "      <td>Y</td>\n",
       "      <td>1.0</td>\n",
       "      <td>1.0</td>\n",
       "      <td>2018-01-30 14:42:04</td>\n",
       "      <td>2020-04-07 15:12:43</td>\n",
       "      <td>3</td>\n",
       "      <td>1</td>\n",
       "    </tr>\n",
       "    <tr>\n",
       "      <th>1</th>\n",
       "      <td>13</td>\n",
       "      <td>118608.0</td>\n",
       "      <td>-0.471654</td>\n",
       "      <td>0.744470</td>\n",
       "      <td>Restaurants</td>\n",
       "      <td>2.0</td>\n",
       "      <td>0.7</td>\n",
       "      <td>5.0</td>\n",
       "      <td>1.0</td>\n",
       "      <td>08:30AM-10:30PM</td>\n",
       "      <td>...</td>\n",
       "      <td>1.0</td>\n",
       "      <td>4,41,51,34,27,15,24,16,28</td>\n",
       "      <td>Breakfast,Cakes,Crepes,Italian,Pasta,Pizzas,Sa...</td>\n",
       "      <td>Y</td>\n",
       "      <td>1.0</td>\n",
       "      <td>1.0</td>\n",
       "      <td>2018-05-03 12:32:06</td>\n",
       "      <td>2020-04-05 20:46:03</td>\n",
       "      <td>3</td>\n",
       "      <td>1</td>\n",
       "    </tr>\n",
       "  </tbody>\n",
       "</table>\n",
       "<p>2 rows × 59 columns</p>\n",
       "</div>"
      ],
      "text/plain": [
       "   id  authentication_id  latitude  longitude vendor_category_en  \\\n",
       "0   4           118597.0 -0.588596   0.754434        Restaurants   \n",
       "1  13           118608.0 -0.471654   0.744470        Restaurants   \n",
       "\n",
       "   vendor_category_id  delivery_charge  serving_distance  is_open  \\\n",
       "0                 2.0              0.0               6.0      1.0   \n",
       "1                 2.0              0.7               5.0      1.0   \n",
       "\n",
       "       OpeningTime  ... open_close_flags                 vendor_tag  \\\n",
       "0  11:00AM-11:30PM  ...              1.0  2,4,5,8,91,22,12,24,16,23   \n",
       "1  08:30AM-10:30PM  ...              1.0  4,41,51,34,27,15,24,16,28   \n",
       "\n",
       "                                     vendor_tag_name one_click_vendor  \\\n",
       "0  Arabic,Breakfast,Burgers,Desserts,Free Deliver...                Y   \n",
       "1  Breakfast,Cakes,Crepes,Italian,Pasta,Pizzas,Sa...                Y   \n",
       "\n",
       "   country_id  city_id          created_at          updated_at device_type  \\\n",
       "0         1.0      1.0 2018-01-30 14:42:04 2020-04-07 15:12:43           3   \n",
       "1         1.0      1.0 2018-05-03 12:32:06 2020-04-05 20:46:03           3   \n",
       "\n",
       "   display_orders  \n",
       "0               1  \n",
       "1               1  \n",
       "\n",
       "[2 rows x 59 columns]"
      ]
     },
     "execution_count": 13,
     "metadata": {},
     "output_type": "execute_result"
    }
   ],
   "source": [
    "vendors.head(2)"
   ]
  },
  {
   "cell_type": "code",
   "execution_count": 14,
   "metadata": {},
   "outputs": [],
   "source": [
    "test=test.assign(key=1).merge(vendors.assign(key=1), on='key').drop('key',axis=1)\n",
    "train=train.assign(key=1).merge(vendors.assign(key=1), on='key').drop('key',axis=1)"
   ]
  },
  {
   "cell_type": "code",
   "execution_count": 15,
   "metadata": {},
   "outputs": [
    {
     "name": "stdout",
     "output_type": "stream",
     "text": [
      "(5802400, 66) (1631700, 66) (1672000, 2)\n"
     ]
    }
   ],
   "source": [
    "print(train.shape, test.shape, submission.shape)"
   ]
  },
  {
   "cell_type": "markdown",
   "metadata": {},
   "source": [
    "# Finding common rows (intersection) in two Pandas dataframes"
   ]
  },
  {
   "cell_type": "code",
   "execution_count": 16,
   "metadata": {},
   "outputs": [
    {
     "data": {
      "text/plain": [
       "Index(['CID X LOC_NUM X VENDOR', 'target'], dtype='object')"
      ]
     },
     "execution_count": 16,
     "metadata": {},
     "output_type": "execute_result"
    }
   ],
   "source": [
    "submission.columns"
   ]
  },
  {
   "cell_type": "code",
   "execution_count": 17,
   "metadata": {},
   "outputs": [],
   "source": [
    "test['location_number_obj']=test['location_number'].astype(str)\n",
    "test['id_obj']=test['id'].astype(str)\n",
    "train['location_number_obj']=test['location_number'].astype(str)\n",
    "train['id_obj']=test['id'].astype(str)"
   ]
  },
  {
   "cell_type": "code",
   "execution_count": 18,
   "metadata": {},
   "outputs": [],
   "source": [
    "test['CID X LOC_NUM X VENDOR'] = test['customer_id'] +' X '+ test['location_number_obj'] +' X '+ test['id_obj']\n",
    "train['CID X LOC_NUM X VENDOR'] = train['customer_id'] +' X '+ train['location_number_obj'] +' X '+ train['id_obj']"
   ]
  },
  {
   "cell_type": "code",
   "execution_count": 19,
   "metadata": {},
   "outputs": [],
   "source": [
    "test = pd.merge(test, submission, how='outer', on=['CID X LOC_NUM X VENDOR'])"
   ]
  },
  {
   "cell_type": "code",
   "execution_count": 20,
   "metadata": {},
   "outputs": [
    {
     "name": "stdout",
     "output_type": "stream",
     "text": [
      "(1672000, 70) (1672000, 2) (5802400, 69)\n"
     ]
    }
   ],
   "source": [
    "print(test.shape, submission.shape, train.shape)"
   ]
  },
  {
   "cell_type": "code",
   "execution_count": 21,
   "metadata": {},
   "outputs": [],
   "source": [
    "all_services = orders['CID X LOC_NUM X VENDOR'].values.tolist()\n",
    "train['target']= train['CID X LOC_NUM X VENDOR'].isin(all_services).astype(int).values"
   ]
  },
  {
   "cell_type": "code",
   "execution_count": 22,
   "metadata": {},
   "outputs": [
    {
     "data": {
      "text/plain": [
       "0    5776323\n",
       "1      26077\n",
       "Name: target, dtype: int64"
      ]
     },
     "execution_count": 22,
     "metadata": {},
     "output_type": "execute_result"
    }
   ],
   "source": [
    "train['target'].value_counts()"
   ]
  },
  {
   "cell_type": "code",
   "execution_count": 23,
   "metadata": {},
   "outputs": [],
   "source": [
    "test.drop('target', axis=1, inplace =True)"
   ]
  },
  {
   "cell_type": "code",
   "execution_count": 24,
   "metadata": {},
   "outputs": [
    {
     "name": "stdout",
     "output_type": "stream",
     "text": [
      "(1672000, 69) (5802400, 70)\n"
     ]
    }
   ],
   "source": [
    "print(test.shape,train.shape)"
   ]
  },
  {
   "cell_type": "code",
   "execution_count": 25,
   "metadata": {},
   "outputs": [],
   "source": [
    "## Reduce memory usage\n",
    "def reduce_mem_usage(df, verbose=True):\n",
    "    numerics = ['int16', 'int32', 'int64', 'float16', 'float32', 'float64']\n",
    "    start_mem = df.memory_usage().sum() / 1024**2    \n",
    "    for col in df.columns:\n",
    "        col_type = df[col].dtypes\n",
    "        if col_type in numerics:\n",
    "            c_min = df[col].min()\n",
    "            c_max = df[col].max()\n",
    "            if str(col_type)[:3] == 'int':\n",
    "                if c_min > np.iinfo(np.int8).min and c_max < np.iinfo(np.int8).max:\n",
    "                    df[col] = df[col].astype(np.int8)\n",
    "                elif c_min > np.iinfo(np.int16).min and c_max < np.iinfo(np.int16).max:\n",
    "                    df[col] = df[col].astype(np.int16)\n",
    "                elif c_min > np.iinfo(np.int32).min and c_max < np.iinfo(np.int32).max:\n",
    "                    df[col] = df[col].astype(np.int32)\n",
    "                elif c_min > np.iinfo(np.int64).min and c_max < np.iinfo(np.int64).max:\n",
    "                    df[col] = df[col].astype(np.int64)  \n",
    "            else:\n",
    "                if c_min > np.finfo(np.float16).min and c_max < np.finfo(np.float16).max:\n",
    "                    df[col] = df[col].astype(np.float16)\n",
    "                elif c_min > np.finfo(np.float32).min and c_max < np.finfo(np.float32).max:\n",
    "                    df[col] = df[col].astype(np.float32)\n",
    "                else:\n",
    "                    df[col] = df[col].astype(np.float64)    \n",
    "    end_mem = df.memory_usage().sum() / 1024**2\n",
    "    if verbose: print('Mem. usage decreased to {:5.2f} Mb ({:.1f}% reduction)'.format(end_mem, 100 * (start_mem - end_mem) / start_mem))\n",
    "    return df"
   ]
  },
  {
   "cell_type": "code",
   "execution_count": 26,
   "metadata": {},
   "outputs": [
    {
     "name": "stdout",
     "output_type": "stream",
     "text": [
      "Mem. usage decreased to 2318.58 Mb (25.7% reduction)\n",
      "Mem. usage decreased to 676.09 Mb (24.3% reduction)\n"
     ]
    }
   ],
   "source": [
    "train = reduce_mem_usage(train)\n",
    "test = reduce_mem_usage(test)"
   ]
  },
  {
   "cell_type": "code",
   "execution_count": null,
   "metadata": {},
   "outputs": [],
   "source": [
    "train.to_csv('akeelah_train.csv', index =False)\n",
    "test.to_csv('akeelah_test.csv', index =False)"
   ]
  }
 ],
 "metadata": {
  "kernelspec": {
   "display_name": "Python 3",
   "language": "python",
   "name": "python3"
  },
  "language_info": {
   "codemirror_mode": {
    "name": "ipython",
    "version": 3
   },
   "file_extension": ".py",
   "mimetype": "text/x-python",
   "name": "python",
   "nbconvert_exporter": "python",
   "pygments_lexer": "ipython3",
   "version": "3.7.3"
  }
 },
 "nbformat": 4,
 "nbformat_minor": 2
}
